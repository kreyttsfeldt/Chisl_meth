{
 "cells": [
  {
   "cell_type": "code",
   "execution_count": 12,
   "metadata": {},
   "outputs": [],
   "source": [
    "def legendre(x,n):\n",
    "    if n==0: return 1\n",
    "    elif n==1: return x\n",
    "    else:\n",
    "        return (2*n+1)/(n+1)*x*legendre(x,n-1)-n*legendre(x,n-2)"
   ]
  },
  {
   "cell_type": "code",
   "execution_count": 1,
   "metadata": {},
   "outputs": [],
   "source": [
    "import numpy as np"
   ]
  },
  {
   "cell_type": "code",
   "execution_count": 5,
   "metadata": {},
   "outputs": [],
   "source": [
    "x=np.array([i for i in range(1,21)])\n",
    "y=np.array([5,6,8,10,12,13,12,10,8,10,8,11,7,9,11,10,9,12,11,6])"
   ]
  },
  {
   "cell_type": "code",
   "execution_count": 6,
   "metadata": {},
   "outputs": [],
   "source": [
    "f=lambda x,i,j: legendre(x,i)*legendre(x,j)"
   ]
  },
  {
   "cell_type": "code",
   "execution_count": 25,
   "metadata": {},
   "outputs": [
    {
     "data": {
      "text/plain": [
       "[[20,\n",
       "  210,\n",
       "  4743.333333333334,\n",
       "  127260.0,\n",
       "  3741444.166666667,\n",
       "  116589847.5,\n",
       "  3782186845.505556,\n",
       "  126349060715.9375,\n",
       "  4316052789000.4365],\n",
       " [210,\n",
       "  2870,\n",
       "  73080.0,\n",
       "  2089120.8333333335,\n",
       "  63941535.0,\n",
       "  2048649890.272222,\n",
       "  67821434479.16667,\n",
       "  2300987797287.078,\n",
       "  79563274282919.67],\n",
       " [4743.333333333334,\n",
       "  73080.0,\n",
       "  1988352.2222222225,\n",
       "  59221271.66666667,\n",
       "  1864422106.6111114,\n",
       "  60976510795.27779,\n",
       "  2050505267659.1968,\n",
       "  70428930489232.53,\n",
       "  2459541958305808.0],\n",
       " [127260.0,\n",
       "  2089120.8333333335,\n",
       "  59221271.66666667,\n",
       "  1814097722.013889,\n",
       "  58295673587.08334,\n",
       "  1936602092918.497,\n",
       "  65928584023708.695,\n",
       "  2286988184081170.5,\n",
       "  8.051979473526014e+16],\n",
       " [3741444.166666667,\n",
       "  63941535.0,\n",
       "  1864422106.6111114,\n",
       "  58295673587.08334,\n",
       "  1902839027983.421,\n",
       "  63995117927735.266,\n",
       "  2200320601711699.0,\n",
       "  7.69515207016129e+16,\n",
       "  2.7278220933450803e+18],\n",
       " [116589847.5,\n",
       "  2048649890.272222,\n",
       "  60976510795.27779,\n",
       "  1936602092918.497,\n",
       "  63995117927735.266,\n",
       "  2173699014698601.8,\n",
       "  7.534985501749722e+16,\n",
       "  2.653241933174875e+18,\n",
       "  9.459913666882925e+19],\n",
       " [3782186845.505556,\n",
       "  67821434479.16667,\n",
       "  2050505267659.1968,\n",
       "  65928584023708.695,\n",
       "  2200320601711699.0,\n",
       "  7.534985501749722e+16,\n",
       "  2.6298420186077066e+18,\n",
       "  9.314019385519704e+19,\n",
       "  3.337355711473313e+21],\n",
       " [126349060715.9375,\n",
       "  2300987797287.078,\n",
       "  70428930489232.53,\n",
       "  2286988184081170.5,\n",
       "  7.69515207016129e+16,\n",
       "  2.653241933174875e+18,\n",
       "  9.314019385519704e+19,\n",
       "  3.3151276772691993e+21,\n",
       "  1.1929790335741876e+23],\n",
       " [4316052789000.4365,\n",
       "  79563274282919.67,\n",
       "  2459541958305808.0,\n",
       "  8.051979473526014e+16,\n",
       "  2.7278220933450803e+18,\n",
       "  9.459913666882925e+19,\n",
       "  3.337355711473313e+21,\n",
       "  1.1929790335741876e+23,\n",
       "  4.309201469303997e+24]]"
      ]
     },
     "execution_count": 25,
     "metadata": {},
     "output_type": "execute_result"
    }
   ],
   "source": [
    "solve_left=[[sum([f(t,i,j) for t in x]) for j in range(9)] for i in range(9)]\n",
    "solve_left"
   ]
  },
  {
   "cell_type": "code",
   "execution_count": 24,
   "metadata": {},
   "outputs": [
    {
     "data": {
      "text/plain": [
       "array([1.88000000e+02, 2.01500000e+03, 4.51223333e+04, 1.19950958e+06,\n",
       "       3.49795021e+07, 1.08062507e+09, 3.47162377e+10, 1.14730935e+12,\n",
       "       3.87389549e+13])"
      ]
     },
     "execution_count": 24,
     "metadata": {},
     "output_type": "execute_result"
    }
   ],
   "source": [
    "solve_right=[sum(legendre(x[i],j)*y[i] for i in range(len(x))) for j in range(9)]\n",
    "solve_right=np.array(solve_right)\n",
    "solve_right"
   ]
  },
  {
   "cell_type": "code",
   "execution_count": 27,
   "metadata": {},
   "outputs": [
    {
     "data": {
      "text/plain": [
       "array([ 9.28830442e+00, -3.82488881e+00,  8.12278718e-01,  7.32336017e-02,\n",
       "       -2.52813873e-02,  2.11025178e-03, -8.11318492e-05,  1.50457120e-06,\n",
       "       -1.09029102e-08])"
      ]
     },
     "execution_count": 27,
     "metadata": {},
     "output_type": "execute_result"
    }
   ],
   "source": [
    "s=np.linalg.solve(solve_left, solve_right) \n",
    "s"
   ]
  },
  {
   "cell_type": "code",
   "execution_count": 90,
   "metadata": {},
   "outputs": [],
   "source": [
    "F=lambda z: np.array([sum([legendre(l,i)*s[i] for i in range(9)]) for l in z]).reshape((len(z),))"
   ]
  },
  {
   "cell_type": "code",
   "execution_count": 93,
   "metadata": {},
   "outputs": [
    {
     "data": {
      "text/plain": [
       "<matplotlib.legend.Legend at 0x16490a80a30>"
      ]
     },
     "execution_count": 93,
     "metadata": {},
     "output_type": "execute_result"
    },
    {
     "data": {
      "image/png": "[encoded data removed]",
      "text/plain": [
       "<Figure size 432x288 with 1 Axes>"
      ]
     },
     "metadata": {
      "needs_background": "light"
     },
     "output_type": "display_data"
    }
   ],
   "source": [
    "import matplotlib.pyplot as plt\n",
    "plt.plot(np.linspace(1,20,1000),F(np.linspace(1,20,1000)),label='Аппроксимирующая кривая')\n",
    "plt.scatter(x,y,label='Данные',color='r')\n",
    "plt.legend()"
   ]
  },
  {
   "cell_type": "code",
   "execution_count": 92,
   "metadata": {},
   "outputs": [
    {
     "data": {
      "text/plain": [
       "array([5.75539708])"
      ]
     },
     "execution_count": 92,
     "metadata": {},
     "output_type": "execute_result"
    }
   ],
   "source": [
    "F([2])"
   ]
  }
 ],
 "metadata": {
  "kernelspec": {
   "display_name": "Python 3",
   "language": "python",
   "name": "python3"
  },
  "language_info": {
   "codemirror_mode": {
    "name": "ipython",
    "version": 3
   },
   "file_extension": ".py",
   "mimetype": "text/x-python",
   "name": "python",
   "nbconvert_exporter": "python",
   "pygments_lexer": "ipython3",
   "version": "3.8.3"
  }
 },
 "nbformat": 4,
 "nbformat_minor": 4
}

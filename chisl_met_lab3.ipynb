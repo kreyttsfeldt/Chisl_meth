{
 "cells": [
  {
   "cell_type": "code",
   "execution_count": 4,
   "metadata": {},
   "outputs": [],
   "source": [
    "import matplotlib.pyplot as plt"
   ]
  },
  {
   "cell_type": "code",
   "execution_count": 181,
   "metadata": {},
   "outputs": [
    {
     "data": {
      "text/plain": [
       "<matplotlib.collections.PathCollection at 0xec369a0>"
      ]
     },
     "execution_count": 181,
     "metadata": {},
     "output_type": "execute_result"
    },
    {
     "data": {
      "image/png": "[encoded data removed]",
      "text/plain": [
       "<Figure size 432x288 with 1 Axes>"
      ]
     },
     "metadata": {
      "needs_background": "light"
     },
     "output_type": "display_data"
    }
   ],
   "source": [
    "x=[i for i in range(1,11)]\n",
    "y=[5,6,8,10,12,13,12,10,8,10]\n",
    "d=dict(zip(x,y))\n",
    "plt.scatter(d.keys(),d.values())\n"
   ]
  },
  {
   "cell_type": "code",
   "execution_count": 183,
   "metadata": {},
   "outputs": [],
   "source": [
    "def lagranz(x,y,t):\n",
    "    z=0\n",
    "    for j in range(len(y)):\n",
    "        p1=1; p2=1\n",
    "        for i in range(len(x)):\n",
    "            if i==j:\n",
    "                p1=p1*1; p2=p2*1   \n",
    "            else: \n",
    "                p1=p1*(t-x[i])\n",
    "                p2=p2*(x[j]-x[i])\n",
    "        z=z+y[j]*p1/p2\n",
    "    return z"
   ]
  },
  {
   "cell_type": "code",
   "execution_count": 200,
   "metadata": {},
   "outputs": [
    {
     "name": "stdout",
     "output_type": "stream",
     "text": [
      "1 [1, 2, 3, 4] [5, 6, 8, 10]\n",
      "1.25 [1, 2, 3, 4] [5, 6, 8, 10]\n",
      "1.5 [1, 2, 3, 4] [5, 6, 8, 10]\n",
      "1.75 [1, 2, 3, 4] [5, 6, 8, 10]\n",
      "2.0 [1, 2, 3, 4] [5, 6, 8, 10]\n",
      "2.25 [1, 2, 3, 4] [5, 6, 8, 10]\n",
      "2.5 [1, 2, 3, 4] [5, 6, 8, 10]\n",
      "2.75 [1, 2, 3, 4] [5, 6, 8, 10]\n",
      "3.0 [2, 3, 4, 5] [6, 8, 10, 12]\n",
      "3.25 [2, 3, 4, 5] [6, 8, 10, 12]\n",
      "3.5 [2, 3, 4, 5] [6, 8, 10, 12]\n",
      "3.75 [2, 3, 4, 5] [6, 8, 10, 12]\n",
      "4.0 [3, 4, 5, 6] [8, 10, 12, 13]\n",
      "4.25 [3, 4, 5, 6] [8, 10, 12, 13]\n",
      "4.5 [3, 4, 5, 6] [8, 10, 12, 13]\n",
      "4.75 [3, 4, 5, 6] [8, 10, 12, 13]\n",
      "5.0 [4, 5, 6, 7] [10, 12, 13, 12]\n",
      "5.25 [4, 5, 6, 7] [10, 12, 13, 12]\n",
      "5.5 [4, 5, 6, 7] [10, 12, 13, 12]\n",
      "5.75 [4, 5, 6, 7] [10, 12, 13, 12]\n",
      "6.0 [5, 6, 7, 8] [12, 13, 12, 10]\n",
      "6.25 [5, 6, 7, 8] [12, 13, 12, 10]\n",
      "6.5 [5, 6, 7, 8] [12, 13, 12, 10]\n",
      "6.75 [5, 6, 7, 8] [12, 13, 12, 10]\n",
      "7.0 [6, 7, 8, 9] [13, 12, 10, 8]\n",
      "7.25 [6, 7, 8, 9] [13, 12, 10, 8]\n",
      "7.5 [6, 7, 8, 9] [13, 12, 10, 8]\n",
      "7.75 [6, 7, 8, 9] [13, 12, 10, 8]\n",
      "8.0 [7, 8, 9, 10] [12, 10, 8, 10]\n",
      "8.25 [7, 8, 9, 10] [12, 10, 8, 10]\n",
      "8.5 [7, 8, 9, 10] [12, 10, 8, 10]\n",
      "8.75 [7, 8, 9, 10] [12, 10, 8, 10]\n",
      "9.0 [7, 8, 9, 10] [12, 10, 8, 10]\n",
      "9.25 [7, 8, 9, 10] [12, 10, 8, 10]\n",
      "9.5 [7, 8, 9, 10] [12, 10, 8, 10]\n",
      "9.75 [7, 8, 9, 10] [12, 10, 8, 10]\n"
     ]
    }
   ],
   "source": [
    "t=1\n",
    "while t<10:\n",
    "    if t<2:\n",
    "        print(t,x[:4],y[:4])\n",
    "        d[t]=lagranz(x[:4],y[:4],t)\n",
    "    else:\n",
    "        print(t,x[int(min(6,t//1-2)):int(min(2+t//1,10))],y[int(min(6,t//1-2)):int(min(2+t//1,10))])\n",
    "        d[t]=lagranz(x[int(min(6,t//1-2)):int(min(3+t//1,10))],y[int(min(6,t//1-2)):int(min(3+t//1,10))],t)\n",
    "    t=t+0.25"
   ]
  },
  {
   "cell_type": "code",
   "execution_count": 201,
   "metadata": {},
   "outputs": [
    {
     "data": {
      "text/plain": [
       "<matplotlib.collections.PathCollection at 0xd9a2aa8>"
      ]
     },
     "execution_count": 201,
     "metadata": {},
     "output_type": "execute_result"
    },
    {
     "data": {
      "image/png": "[encoded data removed]",
      "text/plain": [
       "<Figure size 432x288 with 1 Axes>"
      ]
     },
     "metadata": {
      "needs_background": "light"
     },
     "output_type": "display_data"
    }
   ],
   "source": [
    "plt.scatter(d.keys(),d.values())"
   ]
  }
 ],
 "metadata": {
  "kernelspec": {
   "display_name": "Python 3",
   "language": "python",
   "name": "python3"
  },
  "language_info": {
   "codemirror_mode": {
    "name": "ipython",
    "version": 3
   },
   "file_extension": ".py",
   "mimetype": "text/x-python",
   "name": "python",
   "nbconvert_exporter": "python",
   "pygments_lexer": "ipython3",
   "version": "3.8.2"
  }
 },
 "nbformat": 4,
 "nbformat_minor": 4
}

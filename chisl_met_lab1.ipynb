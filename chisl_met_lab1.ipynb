{
 "cells": [
  {
   "cell_type": "code",
   "execution_count": 2,
   "metadata": {},
   "outputs": [
    {
     "name": "stdout",
     "output_type": "stream",
     "text": [
      "Введите точность: \n",
      "10\n",
      "Введите начальные приближения:\n",
      "1,2\n",
      "Итерация  1: 1.171657528\n",
      "Итерация  2: 1.278078643\n",
      "Итерация  3: 1.469164187\n",
      "Итерация  4: 1.407524828\n",
      "Итерация  5: 1.416389886\n",
      "Итерация  6: 1.417004432\n",
      "Итерация  7: 1.416997157\n",
      "Итерация  8: 1.416997162\n",
      "Итерация  9: 1.416997162\n"
     ]
    }
   ],
   "source": [
    "import sympy as sp\n",
    "x=sp.symbols('x')\n",
    "f=7.5*x**5-3.2*x**3+27*x-72\n",
    "print(\"Введите точность: \")\n",
    "l=int(input())\n",
    "print(\"Введите начальные приближения:\")\n",
    "x1,x2=sp.S(input())\n",
    "eps=10**(-l)\n",
    "n=1\n",
    "while True:\n",
    "    xn=x2-(x2-x1)*f.subs(x,x2)/(f.subs(x,x2)-f.subs(x,x1))\n",
    "    print(\"Итерация {:>2}:\".format(n),sp.N(xn,l))\n",
    "    if abs(xn-x2)<eps:\n",
    "         break\n",
    "    x1=x2\n",
    "    x2=xn\n",
    "    n+=1"
   ]
  },
  {
   "cell_type": "code",
   "execution_count": 3,
   "metadata": {},
   "outputs": [
    {
     "name": "stdout",
     "output_type": "stream",
     "text": [
      "Введите точность: \n",
      "20\n",
      "Введите начальные приближения:\n",
      "1,2\n",
      "Итерация  1: 1.1716575284690005088\n",
      "Итерация  2: 1.2780786425949004492\n",
      "Итерация  3: 1.4691641871869136615\n",
      "Итерация  4: 1.4075248282399346333\n",
      "Итерация  5: 1.4163898858602812503\n",
      "Итерация  6: 1.4170044322257124847\n",
      "Итерация  7: 1.4169971568249772886\n",
      "Итерация  8: 1.4169971623770587499\n",
      "Итерация  9: 1.4169971623771095981\n",
      "Итерация 10: 1.4169971623771093761\n",
      "Итерация 11: 1.4169971623771095981\n",
      "Итерация 12: 1.4169971623771095981\n"
     ]
    }
   ],
   "source": [
    "import sympy as sp\n",
    "x=sp.symbols('x')\n",
    "print(\"Введите точность: \")\n",
    "l=int(input())\n",
    "print(\"Введите начальные приближения:\")\n",
    "x1,x2=sp.S(input())\n",
    "eps=10**(-l)\n",
    "n=1\n",
    "e=10**(-3)\n",
    "while abs(x2-x1)>e:\n",
    "    xn=x2-(x2-x1)*f.subs(x,x2)/(f.subs(x,x2)-f.subs(x,x1))\n",
    "    print(\"Итерация {:>2}:\".format(n),sp.N(xn,l))\n",
    "    if abs(xn-x2)<eps :\n",
    "         break\n",
    "    x1=x2\n",
    "    x2=xn\n",
    "    n+=1\n",
    "while True:\n",
    "    xn=x2-(x2-x1)*f.subs(x,x2)/(f.subs(x,x2)-f.subs(x,x1))\n",
    "    print(\"Итерация {:>2}:\".format(n),sp.N(xn,l))\n",
    "    if abs(xn-x2)<eps or abs(xn-x2)>e:\n",
    "         break\n",
    "    x1=x2\n",
    "    x2=xn\n",
    "    n+=1"
   ]
  },
  {
   "cell_type": "code",
   "execution_count": null,
   "metadata": {},
   "outputs": [],
   "source": []
  }
 ],
 "metadata": {
  "kernelspec": {
   "display_name": "Python 3",
   "language": "python",
   "name": "python3"
  },
  "language_info": {
   "codemirror_mode": {
    "name": "ipython",
    "version": 3
   },
   "file_extension": ".py",
   "mimetype": "text/x-python",
   "name": "python",
   "nbconvert_exporter": "python",
   "pygments_lexer": "ipython3",
   "version": "3.8.2"
  }
 },
 "nbformat": 4,
 "nbformat_minor": 4
}

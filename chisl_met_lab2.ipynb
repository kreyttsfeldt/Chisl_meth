{
 "cells": [
  {
   "cell_type": "code",
   "execution_count": 16,
   "metadata": {},
   "outputs": [
    {
     "name": "stdout",
     "output_type": "stream",
     "text": [
      "Введите число знаков после запятой: \n",
      "10\n",
      "Введите начальные приближения: \n",
      "1,2,1\n",
      " 1-ая итерация:  f1=-1.7001260258200848       , f2=0.3050294074054172        , f3=-0.2714065671444936      \n",
      "                 x=0.7654642218453267         , y=1.6714355904760807         , z=1.3978779435348958         \n",
      " 2-ая итерация:  f1=-0.26302060337121613      , f2=-0.21736555429094295      , f3=0.001371638137538378     \n",
      "                 x=0.6277609060761298         , y=1.5256809584068667         , z=1.1619098055814843         \n",
      " 3-ая итерация:  f1=-0.009511333620162432     , f2=-0.02970191829060731      , f3=0.002286645368218654     \n",
      "                 x=0.600754021810049          , y=1.5006883459429647         , z=1.1027042541652483         \n",
      " 4-ая итерация:  f1=-1.3442980589584153e-05   , f2=-8.543830201190872e-05    , f3=6.387215861991535e-06    \n",
      "                 x=0.6000004461214554         , y=1.5000006068862932         , z=1.1000045025026775         \n",
      " 5-ая итерация:  f1=-3.318456620604593e-11    , f2=-2.743689719864051e-10    , f3=1.9044321675210085e-11   \n",
      "                 x=0.6000000000001259         , y=1.5000000000011284         , z=1.1000000000120447         \n",
      " 6-ая итерация:  f1=4.440892098500626e-16     , f2=3.552713678800501e-15     , f3=-2.220446049250313e-16   \n",
      "                 x=0.6                        , y=1.5                        , z=1.0999999999999999         \n"
     ]
    }
   ],
   "source": [
    "import sympy as sp\n",
    "import numpy as np\n",
    "x=sp.symbols('x')\n",
    "y=sp.symbols('y')\n",
    "z=sp.symbols('z')\n",
    "f1=2*x*z-1.5*x**2*y**2-1.72*z**2+1.9762\n",
    "f2=3.5*x*y**2*z+20.2*x*y-8.7*z**2*y-7.587\n",
    "f3=1.2*x**3-y**3+z**2+1.9058\n",
    "df1x=sp.diff(f1,x)\n",
    "df1y=sp.diff(f1,y)\n",
    "df1z=sp.diff(f1,z)\n",
    "df2x=sp.diff(f2,x)\n",
    "df2y=sp.diff(f2,y)\n",
    "df2z=sp.diff(f2,z)\n",
    "df3x=sp.diff(f3,x)\n",
    "df3y=sp.diff(f3,y)\n",
    "df3z=sp.diff(f3,z)\n",
    "print(\"Введите число знаков после запятой: \")\n",
    "p=input()\n",
    "eps=10**(-int(p))\n",
    "print(\"Введите начальные приближения: \")\n",
    "x0,y0,z0=sp.S(input())\n",
    "i=1\n",
    "while True:\n",
    "    l=np.array([[df1x.subs({x:x0, y:y0,z:z0}),df1y.subs({x:x0, y:y0,z:z0})\n",
    "           ,df1z.subs({x:x0, y:y0,z:z0})],[df2x.subs({x:x0, y:y0,z:z0}),df2y.subs({x:x0, y:y0,z:z0})\n",
    "                                           ,df2z.subs({x:x0, y:y0,z:z0})],[df3x.subs({x:x0, y:y0,z:z0})\n",
    "                                                                           ,df3y.subs({x:x0, y:y0,z:z0})\n",
    "                                                                           ,df3z.subs({x:x0, y:y0,z:z0})]],dtype='float')\n",
    "    v=np.array([[-f1.subs({x:x0, y:y0,z:z0}),-f2.subs({x:x0, y:y0,z:z0}),-f3.subs({x:x0, y:y0,z:z0})]],dtype='float')\n",
    "    s=np.linalg.solve(l, v.T) \n",
    "    x1,y1,z1=float(x0+s[0]),float(y0+s[1]),float(z0+s[2])\n",
    "    print(\"{:>2}-ая итерация: \".format(i),'f1={:<25}'.format(float(f1.subs({x:x1, y:y1,z:z1}))),\n",
    "          ', f2={:<25}'.format(float(f2.subs({x:x1, y:y1,z:z1}))),\n",
    "          ', f3={:<25}'.format(float(f3.subs({x:x1, y:y1,z:z1}))))\n",
    "    print('                 x={:<27}, y={:<27}, z={:<27}'.format(x1,y1,z1))\n",
    "    if (s[0]**2+s[1]**2+s[2]**2)**0.5<eps:\n",
    "          break\n",
    "    x0,y0,z0,i=x1,y1,z1,i+1"
   ]
  },
  {
   "cell_type": "code",
   "execution_count": 12,
   "metadata": {},
   "outputs": [
    {
     "name": "stdout",
     "output_type": "stream",
     "text": [
      "Введите число знаков после запятой: \n",
      "20\n",
      "Введите начальные приближения: \n",
      "1,2,1\n"
     ]
    },
    {
     "ename": "TypeError",
     "evalue": "data type 'Decimal' not understood",
     "output_type": "error",
     "traceback": [
      "\u001b[1;31m---------------------------------------------------------------------------\u001b[0m",
      "\u001b[1;31mTypeError\u001b[0m                                 Traceback (most recent call last)",
      "\u001b[1;32m<ipython-input-12-a247af5268ad>\u001b[0m in \u001b[0;36m<module>\u001b[1;34m\u001b[0m\n\u001b[0;32m     25\u001b[0m \u001b[0mi\u001b[0m\u001b[1;33m=\u001b[0m\u001b[1;36m1\u001b[0m\u001b[1;33m\u001b[0m\u001b[1;33m\u001b[0m\u001b[0m\n\u001b[0;32m     26\u001b[0m \u001b[1;32mwhile\u001b[0m \u001b[1;32mTrue\u001b[0m\u001b[1;33m:\u001b[0m\u001b[1;33m\u001b[0m\u001b[1;33m\u001b[0m\u001b[0m\n\u001b[1;32m---> 27\u001b[1;33m     l=np.array([[df1x.subs({x:x0, y:y0,z:z0}),df1y.subs({x:x0, y:y0,z:z0})\n\u001b[0m\u001b[0;32m     28\u001b[0m            \u001b[1;33m,\u001b[0m\u001b[0mdf1z\u001b[0m\u001b[1;33m.\u001b[0m\u001b[0msubs\u001b[0m\u001b[1;33m(\u001b[0m\u001b[1;33m{\u001b[0m\u001b[0mx\u001b[0m\u001b[1;33m:\u001b[0m\u001b[0mx0\u001b[0m\u001b[1;33m,\u001b[0m \u001b[0my\u001b[0m\u001b[1;33m:\u001b[0m\u001b[0my0\u001b[0m\u001b[1;33m,\u001b[0m\u001b[0mz\u001b[0m\u001b[1;33m:\u001b[0m\u001b[0mz0\u001b[0m\u001b[1;33m}\u001b[0m\u001b[1;33m)\u001b[0m\u001b[1;33m]\u001b[0m\u001b[1;33m,\u001b[0m\u001b[1;33m[\u001b[0m\u001b[0mdf2x\u001b[0m\u001b[1;33m.\u001b[0m\u001b[0msubs\u001b[0m\u001b[1;33m(\u001b[0m\u001b[1;33m{\u001b[0m\u001b[0mx\u001b[0m\u001b[1;33m:\u001b[0m\u001b[0mx0\u001b[0m\u001b[1;33m,\u001b[0m \u001b[0my\u001b[0m\u001b[1;33m:\u001b[0m\u001b[0my0\u001b[0m\u001b[1;33m,\u001b[0m\u001b[0mz\u001b[0m\u001b[1;33m:\u001b[0m\u001b[0mz0\u001b[0m\u001b[1;33m}\u001b[0m\u001b[1;33m)\u001b[0m\u001b[1;33m,\u001b[0m\u001b[0mdf2y\u001b[0m\u001b[1;33m.\u001b[0m\u001b[0msubs\u001b[0m\u001b[1;33m(\u001b[0m\u001b[1;33m{\u001b[0m\u001b[0mx\u001b[0m\u001b[1;33m:\u001b[0m\u001b[0mx0\u001b[0m\u001b[1;33m,\u001b[0m \u001b[0my\u001b[0m\u001b[1;33m:\u001b[0m\u001b[0my0\u001b[0m\u001b[1;33m,\u001b[0m\u001b[0mz\u001b[0m\u001b[1;33m:\u001b[0m\u001b[0mz0\u001b[0m\u001b[1;33m}\u001b[0m\u001b[1;33m)\u001b[0m\u001b[1;33m\u001b[0m\u001b[1;33m\u001b[0m\u001b[0m\n\u001b[0;32m     29\u001b[0m                                            \u001b[1;33m,\u001b[0m\u001b[0mdf2z\u001b[0m\u001b[1;33m.\u001b[0m\u001b[0msubs\u001b[0m\u001b[1;33m(\u001b[0m\u001b[1;33m{\u001b[0m\u001b[0mx\u001b[0m\u001b[1;33m:\u001b[0m\u001b[0mx0\u001b[0m\u001b[1;33m,\u001b[0m \u001b[0my\u001b[0m\u001b[1;33m:\u001b[0m\u001b[0my0\u001b[0m\u001b[1;33m,\u001b[0m\u001b[0mz\u001b[0m\u001b[1;33m:\u001b[0m\u001b[0mz0\u001b[0m\u001b[1;33m}\u001b[0m\u001b[1;33m)\u001b[0m\u001b[1;33m]\u001b[0m\u001b[1;33m,\u001b[0m\u001b[1;33m[\u001b[0m\u001b[0mdf3x\u001b[0m\u001b[1;33m.\u001b[0m\u001b[0msubs\u001b[0m\u001b[1;33m(\u001b[0m\u001b[1;33m{\u001b[0m\u001b[0mx\u001b[0m\u001b[1;33m:\u001b[0m\u001b[0mx0\u001b[0m\u001b[1;33m,\u001b[0m \u001b[0my\u001b[0m\u001b[1;33m:\u001b[0m\u001b[0my0\u001b[0m\u001b[1;33m,\u001b[0m\u001b[0mz\u001b[0m\u001b[1;33m:\u001b[0m\u001b[0mz0\u001b[0m\u001b[1;33m}\u001b[0m\u001b[1;33m)\u001b[0m\u001b[1;33m\u001b[0m\u001b[1;33m\u001b[0m\u001b[0m\n",
      "\u001b[1;31mTypeError\u001b[0m: data type 'Decimal' not understood"
     ]
    }
   ],
   "source": [
    "import decimal as dc\n",
    "import sympy as sp\n",
    "import numpy as np\n",
    "x=sp.symbols('x')\n",
    "y=sp.symbols('y')\n",
    "z=sp.symbols('z')\n",
    "f1=2*x*z-1.5*x**2*y**2-1.72*z**2+1.9762\n",
    "f2=3.5*x*y**2+20.2*x*y-8.7*z**2*y-7.587\n",
    "f3=1.2*x**3-y**3+z**2+1.9058\n",
    "df1x=sp.diff(f1,x)\n",
    "df1y=sp.diff(f1,y)\n",
    "df1z=sp.diff(f1,z)\n",
    "df2x=sp.diff(f2,x)\n",
    "df2y=sp.diff(f2,y)\n",
    "df2z=sp.diff(f2,z)\n",
    "df3x=sp.diff(f3,x)\n",
    "df3y=sp.diff(f3,y)\n",
    "df3z=sp.diff(f3,z)\n",
    "print(\"Введите число знаков после запятой: \")\n",
    "p=input()\n",
    "eps=10**(-int(p))\n",
    "dc.getcontext().prec=int(p)\n",
    "print(\"Введите начальные приближения: \")\n",
    "x0,y0,z0=sp.S(input())\n",
    "i=1\n",
    "while True:\n",
    "    l=np.array([[df1x.subs({x:x0, y:y0,z:z0}),df1y.subs({x:x0, y:y0,z:z0})\n",
    "           ,df1z.subs({x:x0, y:y0,z:z0})],[df2x.subs({x:x0, y:y0,z:z0}),df2y.subs({x:x0, y:y0,z:z0})\n",
    "                                           ,df2z.subs({x:x0, y:y0,z:z0})],[df3x.subs({x:x0, y:y0,z:z0})\n",
    "                                                                           ,df3y.subs({x:x0, y:y0,z:z0})\n",
    "                                                                           ,df3z.subs({x:x0, y:y0,z:z0})]],dtype='float')\n",
    "    l_dc=[[dc.Decimal(x) for x in y] for y in s]\n",
    "    v=np.array([[-f1.subs({x:x0, y:y0,z:z0}),-f2.subs({x:x0, y:y0,z:z0}),-f3.subs({x:x0, y:y0,z:z0})]],dtype='float')\n",
    "    s=np.linalg.solve(l, v.T) \n",
    "    x1,y1,z1=float(x0+s[0]),float(y0+s[1]),float(z0+s[2])\n",
    "    print(\"{:>2}-ая итерация: \".format(i),'f1={:<25}'.format(float(f1.subs({x:x1, y:y1,z:z1}))),\n",
    "          ', f2={:<25}'.format(float(f2.subs({x:x1, y:y1,z:z1}))),\n",
    "          ', f3={:<25}'.format(float(f3.subs({x:x1, y:y1,z:z1}))))\n",
    "    print('                 x={:<27}, y={:<27}, z={:<27}'.format(x1,y1,z1))\n",
    "    #t1=(f1.subs({x:x1, y:y1,z:z1})**2+f2.subs({x:x1, y:y1,z:z1})**2+f3.subs({x:x1, y:y1,z:z1})**2)**0.5\n",
    "    #t2=(f1.subs({x:x0, y:y0,z:z0})**2+f2.subs({x:x0, y:y0,z:z1})**2+f3.subs({x:x0, y:y0,z:z0})**2)**0.5\n",
    "    #if abs(t1-t2)<eps:\n",
    "    if (s[0]**2+s[1]**2+s[2]**2)**0.5<eps:\n",
    "          break\n",
    "    x0,y0,z0,i=x1,y1,z1,i+1\n",
    "    "
   ]
  },
  {
   "cell_type": "code",
   "execution_count": 9,
   "metadata": {},
   "outputs": [
    {
     "data": {
      "text/plain": [
       "decimal.Decimal"
      ]
     },
     "execution_count": 9,
     "metadata": {},
     "output_type": "execute_result"
    }
   ],
   "source": [
    "import decimal as dc\n",
    "type(dc.Decimal(14))"
   ]
  },
  {
   "cell_type": "code",
   "execution_count": null,
   "metadata": {},
   "outputs": [],
   "source": []
  }
 ],
 "metadata": {
  "kernelspec": {
   "display_name": "Python 3",
   "language": "python",
   "name": "python3"
  },
  "language_info": {
   "codemirror_mode": {
    "name": "ipython",
    "version": 3
   },
   "file_extension": ".py",
   "mimetype": "text/x-python",
   "name": "python",
   "nbconvert_exporter": "python",
   "pygments_lexer": "ipython3",
   "version": "3.8.2"
  }
 },
 "nbformat": 4,
 "nbformat_minor": 4
}
